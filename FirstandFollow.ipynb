{
 "cells": [
  {
   "cell_type": "markdown",
   "metadata": {},
   "source": [
    "Enter production rules:"
   ]
  },
  {
   "cell_type": "code",
   "execution_count": 21,
   "metadata": {},
   "outputs": [
    {
     "name": "stdout",
     "output_type": "stream",
     "text": [
      "Enter number of productions4\n",
      "TerminalS\n",
      "RHS RuleACB|Cbb|Ba\n",
      "TerminalA\n",
      "RHS Ruleda|BC\n",
      "TerminalB\n",
      "RHS Ruleg|.\n",
      "TerminalC\n",
      "RHS Ruleh|.\n",
      "{'S': 'ACB|Cbb|Ba', 'A': 'da|BC', 'B': 'g|.', 'C': 'h|.'}\n"
     ]
    }
   ],
   "source": [
    "dic={}\n",
    "n=int(input('Enter number of productions'))\n",
    "for i in range(0,n):\n",
    "    x=input('Terminal')\n",
    "    y=input('RHS Rule')\n",
    "    dic[str(x)]=str(y)\n",
    "print(dic)"
   ]
  },
  {
   "cell_type": "markdown",
   "metadata": {},
   "source": [
    "Determining first:"
   ]
  },
  {
   "cell_type": "code",
   "execution_count": 22,
   "metadata": {},
   "outputs": [
    {
     "name": "stdout",
     "output_type": "stream",
     "text": [
      "{'S': {'d', 'a', 'b', 'h', 'g', '.'}, 'A': {'h', 'd', 'g', '.'}, 'B': {'g', '.'}, 'C': {'h', '.'}}\n"
     ]
    }
   ],
   "source": [
    "first={}\n",
    "fir=[]\n",
    "#epsillon: .\n",
    "symbol='[@_!#$%^&*()<>?/\\}{~:+-.,]'\n",
    "def rec(x):\n",
    "    c=[]\n",
    "    if '|' in dic[x]:\n",
    "        c=dic[x].split(\"|\")\n",
    "    else:\n",
    "        c.append(dic[x])\n",
    "    n=0\n",
    "    for i in c:\n",
    "                j=i[n]\n",
    "                if (j in symbol) or (j.islower()) :\n",
    "                            fir.append(j)\n",
    "                            if j=='.': \n",
    "                                return 1;              \n",
    "                else:\n",
    "                    c=rec(j)\n",
    "                    if c==1:\n",
    "                        if n+1<len(i):\n",
    "                            n=n+1\n",
    "                            j=i[n]\n",
    "                            if (j in symbol) or (j.islower()) :\n",
    "                                  fir.append(j)\n",
    "                            else:\n",
    "                                 rec(j)\n",
    "                    \n",
    "                               \n",
    "for i in dic:\n",
    "        rec(i)               \n",
    "        first[i]=set(fir)\n",
    "        fir=[]\n",
    "\n",
    "print(first)    "
   ]
  },
  {
   "cell_type": "markdown",
   "metadata": {},
   "source": [
    "Determining follow:\n",
    "    "
   ]
  },
  {
   "cell_type": "code",
   "execution_count": 23,
   "metadata": {},
   "outputs": [
    {
     "name": "stdout",
     "output_type": "stream",
     "text": [
      "Follow of the productions\t {'S': {'$'}, 'A': {'g', 'h', '$'}, 'B': {'h', '$', 'a', 'g'}, 'C': {'b', '$', 'g', 'h'}}\n"
     ]
    }
   ],
   "source": [
    "\n",
    "follow={}\n",
    "fol=[]\n",
    "symbol='[@_!#$%^&*()<>?/\\}{~:+-]'\n",
    "def check(i,j,a):\n",
    "    #if production of from A->YB then FolloW(B)=Follow(A)        \n",
    "    if a+1==len(j):\n",
    "        for k in follow[i]:\n",
    "                fol.append(k)\n",
    "    #see the element following x\n",
    "    if a+1<len(j):\n",
    "        #if element is a terminal\n",
    "        if ((j[a+1] in symbol) or (j[a+1].islower())):\n",
    "                    fol.append(j[a+1])  \n",
    "        #if element is a non-terminal see the First[Non-terminal]                           \n",
    "        elif j[a+1].isupper():\n",
    "                    for k in first[j[a+1]]:\n",
    "                            #if First[NT] doesn't contain epsillon\n",
    "                            if k!='.':\n",
    "                                fol.append(k)\n",
    "                            #if First[NT] contains epsillon see the next element in the production rule\n",
    "                            else:\n",
    "                                a=a+1\n",
    "                                check(i,j,a)\n",
    "    #reached last of production, append $                \n",
    "    else:\n",
    "        fol.append('$')\n",
    "              \n",
    "    \n",
    "def Follow_func(x):\n",
    "    #for start element\n",
    "    if count==0:\n",
    "            fol.append('$')\n",
    "    for i in dic:\n",
    "        c=dic[i].split('|')\n",
    "        for j in c:\n",
    "            if j in symbol or j.islower():\n",
    "                continue\n",
    "            else:\n",
    "                a=j.find(x)\n",
    "                if a==-1:\n",
    "                    continue\n",
    "                else:\n",
    "                    check(i,j,a) \n",
    "        follow[x]=set(fol)\n",
    "       \n",
    "                            \n",
    "count=0\n",
    "for i in dic:\n",
    "        fol=[]\n",
    "        Follow_func(i)\n",
    "        follow[i]=set(fol)\n",
    "        count=count+1\n",
    "       \n",
    "print(\"Follow of the productions\\t\",follow)\n",
    "\n",
    "       "
   ]
  },
  {
   "cell_type": "code",
   "execution_count": null,
   "metadata": {},
   "outputs": [],
   "source": []
  },
  {
   "cell_type": "code",
   "execution_count": null,
   "metadata": {},
   "outputs": [],
   "source": []
  }
 ],
 "metadata": {
  "kernelspec": {
   "display_name": "Python 3",
   "language": "python",
   "name": "python3"
  },
  "language_info": {
   "codemirror_mode": {
    "name": "ipython",
    "version": 3
   },
   "file_extension": ".py",
   "mimetype": "text/x-python",
   "name": "python",
   "nbconvert_exporter": "python",
   "pygments_lexer": "ipython3",
   "version": "3.6.4"
  }
 },
 "nbformat": 4,
 "nbformat_minor": 2
}
