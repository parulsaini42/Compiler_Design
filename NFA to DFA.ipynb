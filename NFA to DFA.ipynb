{
 "cells": [
  {
   "cell_type": "markdown",
   "metadata": {},
   "source": [
    "nfa without e-moves to dfa conversion"
   ]
  },
  {
   "cell_type": "code",
   "execution_count": 89,
   "metadata": {},
   "outputs": [
    {
     "name": "stdout",
     "output_type": "stream",
     "text": [
      "0,1\n",
      "0\n",
      "\n",
      "2\n",
      "\n",
      "\n",
      "S(q[ 0 ],0)->q[ 0,1 ]\n",
      "S(q[ 0 ],1)->q[ 0 ]\n",
      "S(q[ 0,1 ],0)->q[ 0,1 ]\n",
      "S(q[ 0,1 ],1)->q[ 0,2 ]\n",
      "S(q[ 0,2 ],0)->q[ 0,1 ]\n",
      "S(q[ 0,2 ],1)->q[ 0 ]\n"
     ]
    }
   ],
   "source": [
    "\n",
    "import numpy as np\n",
    "import string\n",
    "def printDFA(NFA,state,b):\n",
    "    #list of state whse transistions have been defined\n",
    "    done=[]\n",
    "    a=['','','','']\n",
    "    q=state\n",
    "    done.append(state)\n",
    "    print(\"S(q[\",q,\"],\"+str(0)+\")->q[\",NFA[0][0],\"]\")\n",
    "    print(\"S(q[\",q,\"],\"+str(1)+\")->q[\",NFA[0][1],\"]\")\n",
    "    for j in b:\n",
    "        if state in done:\n",
    "            b.remove(state)\n",
    "        if j in done:\n",
    "            b.remove(j)\n",
    "        else:\n",
    "            state=j\n",
    "            done.append(state)\n",
    "            k=j.split(',')\n",
    "            for j in range(0,len(s)):\n",
    "                for i in range(0,len(k)):\n",
    "                        #Avoiding duplicate string concatenation/performing union\n",
    "                        if a[j].find(NFA[int(k[i])][j])==-1:\n",
    "                            a[j]=a[j]+NFA[int(k[i])][j]+','\n",
    "                a[j]=a[j].rstrip(',')\n",
    "                if a[j] not in done:\n",
    "                    b.append(a[j])\n",
    "                print(\"S(q[\",state,\"],\"+str(j)+\")->q[\",a[j],\"]\")\n",
    "                #clear a\n",
    "                a=['','','','']\n",
    "            \n",
    "            \n",
    "q=[0,1,2]\n",
    "s=[0,1]\n",
    "initial_state='0'\n",
    "NFA = [[0 for col in range(len(s))] for row in range(len(q))]\n",
    "DFA = [[0 for col in range(2)] for row in range(1)]\n",
    "for i in q:\n",
    "    for j in s:\n",
    "        NFA[i][j]=input()\n",
    "#states of DFA with undefined transisitions\n",
    "b=[NFA[0][0],NFA[0][1]]\n",
    "printDFA(NFA,initial_state,b)\n",
    "    \n",
    "    \n",
    "    "
   ]
  },
  {
   "cell_type": "markdown",
   "metadata": {},
   "source": [
    "nfa with e-moves to dfa conversion"
   ]
  },
  {
   "cell_type": "code",
   "execution_count": 50,
   "metadata": {},
   "outputs": [],
   "source": [
    "#let 2 represent epsillon move\n",
    "q=[0,1,2,3,4,5,6,7,8,9,10]\n",
    "s=[0,1,2]\n",
    "initial_state='0'\n",
    "#enter input dynamically\n",
    "#NFA = [[0 for col in range(len(s))] for row in range(len(q))]\n",
    "#for i in q:\n",
    "#    for j in s:\n",
    "#        NFA[i][j]=input()\n",
    "\n",
    "NFA=[['','','1,7'],\n",
    "     ['','','2,4'],\n",
    "     ['3','',''],\n",
    "     ['','','6'],\n",
    "     ['','5',''],\n",
    "     ['','','6'],\n",
    "     ['','','1,7'],\n",
    "     ['8','',''],\n",
    "     ['','9',''],\n",
    "     ['','10',''],\n",
    "     ['','','']    \n",
    "]\n"
   ]
  },
  {
   "cell_type": "code",
   "execution_count": 51,
   "metadata": {},
   "outputs": [],
   "source": [
    "\n",
    "def epsilon_closure(x,e):\n",
    "    if x not in e:\n",
    "        e.append(x)\n",
    "        #print(e)\n",
    "    if len(NFA[x][2].split(','))>1:\n",
    "            for j in NFA[x][2].split(','):\n",
    "                    e.append(int(j))\n",
    "                    epsilon_closure(int(j),e)\n",
    "    elif len(NFA[x][2])==1:\n",
    "            e.append(int(NFA[x][2]))\n",
    "            epsilon_closure(int(NFA[x][2]),e)\n",
    "    \n",
    "    else:\n",
    "        return e\n",
    "\n",
    "    return e\n"
   ]
  },
  {
   "cell_type": "code",
   "execution_count": 53,
   "metadata": {},
   "outputs": [
    {
     "name": "stdout",
     "output_type": "stream",
     "text": [
      "q(A,a)-> B\n",
      "q(A,b)-> C\n",
      "q(B,a)-> B\n",
      "q(B,b)-> D\n",
      "q(C,a)-> B\n",
      "q(C,b)-> C\n",
      "q(D,a)-> B\n",
      "q(D,b)-> E\n",
      "q(E,a)-> B\n",
      "q(E,b)-> C\n"
     ]
    }
   ],
   "source": [
    "\n",
    "def move(a,n):\n",
    "    global i\n",
    "    moves=[]\n",
    "    e=[]\n",
    "    p=[]\n",
    "    for j in a:\n",
    "        if NFA[j][n]!='':\n",
    "            moves.append(int(NFA[j][n]))\n",
    "        else:\n",
    "            continue\n",
    "        a=moves\n",
    "    for k in a:\n",
    "        p=p+epsilon_closure(k,e)\n",
    "    state=list(set(p))\n",
    "    if state in dic.values():\n",
    "        return list(dic.keys())[list(dic.values()).index(state)]\n",
    "    else:\n",
    "        i=i+1\n",
    "        dic[S[i]]=list(set(p))\n",
    "        return S[i]\n",
    "\n",
    "i=0\n",
    "e=[]\n",
    "marked=[]\n",
    "dic={'A':[],'B':[],'C':[],'D':[],'E':[],'F':[]}\n",
    "S=['A','B','C','D','E','F','G']\n",
    "#state A\n",
    "dic[S[i]]=epsilon_closure(0,e)\n",
    "for r in dic.keys():\n",
    "     if dic[r]!=[]:\n",
    "        print(\"q(\"+r+\",a)->\",move(dic[r],0))\n",
    "        print(\"q(\"+r+\",b)->\",move(dic[r],1))\n",
    "        "
   ]
  },
  {
   "cell_type": "code",
   "execution_count": null,
   "metadata": {},
   "outputs": [],
   "source": [
    "\n"
   ]
  }
 ],
 "metadata": {
  "kernelspec": {
   "display_name": "Python 3",
   "language": "python",
   "name": "python3"
  },
  "language_info": {
   "codemirror_mode": {
    "name": "ipython",
    "version": 3
   },
   "file_extension": ".py",
   "mimetype": "text/x-python",
   "name": "python",
   "nbconvert_exporter": "python",
   "pygments_lexer": "ipython3",
   "version": "3.6.4"
  }
 },
 "nbformat": 4,
 "nbformat_minor": 2
}
