{
 "cells": [
  {
   "cell_type": "code",
   "execution_count": 16,
   "metadata": {},
   "outputs": [
    {
     "name": "stdout",
     "output_type": "stream",
     "text": [
      "Number of final states1\n",
      "enter final state4\n",
      "K0 [[4], [0, 1, 2, 3]]\n",
      "K1 [[4], [0, 1, 2], [3]]\n",
      "K2 [[4], [0, 2], [3], [1]]\n",
      "K3 [[4], [0, 2], [3], [1]]\n",
      "K3== K2\n"
     ]
    }
   ],
   "source": [
    "def func(V):\n",
    "    M=[]\n",
    "    for i in V:\n",
    "        j=0\n",
    "        r=1\n",
    "        while(r<len(i)):\n",
    "            flag1=False\n",
    "            flag2=False\n",
    "            x0=DFA[i[j]][0]\n",
    "            y0=DFA[i[r]][0]\n",
    "            x1=DFA[i[j]][1] \n",
    "            y1=DFA[i[r]][1] \n",
    "            for k in V:\n",
    "                if x0 in k and y0 in k and flag1!=True:\n",
    "                    flag1=True\n",
    "                if x1 in k and y1 in k and flag2!=True:\n",
    "                    flag2=True\n",
    "            if flag1!=True or flag2!=True:\n",
    "                M.append(i[r])\n",
    "                i.remove(i[r])\n",
    "                V.append(M)\n",
    "            r=r+1\n",
    "            j=j+1\n",
    "        M=[]\n",
    "    return V\n",
    "\n",
    "#program\n",
    "q=[0,1,2,3,4]\n",
    "s=[0,1]\n",
    "DFA=[[1,2],\n",
    "     [1,3],\n",
    "     [1,2],\n",
    "     [1,4],\n",
    "     [1,2]]\n",
    "Q0=[]\n",
    "Q1=[]\n",
    "V=[]\n",
    "n=int(input('Number of final states'))\n",
    "for i in range(0,n):\n",
    "    Q0.append(int(input(\"enter final state\")))\n",
    "for i in range(0,len(q)):\n",
    "    if q[i] not in Q0:\n",
    "        Q1.append(q[i])\n",
    "V.append(Q0)\n",
    "V.append(Q1)\n",
    "V1=V\n",
    "V2=V.copy()\n",
    "i=1\n",
    "print(\"K0\",V)\n",
    "while(1):\n",
    "    V1=func(V1) \n",
    "    print(\"K\"+str(i),V1)\n",
    "    i=i+1\n",
    "    if V2==V1:\n",
    "        print(\"K\"+str(i),V1)\n",
    "        print(\"K\"+str(i)+\"== K\"+str(i-1))\n",
    "        break\n",
    "    else:\n",
    "        V2=V1\n",
    "        continue\n",
    "\n",
    "        \n",
    "\n",
    "    "
   ]
  },
  {
   "cell_type": "code",
   "execution_count": null,
   "metadata": {},
   "outputs": [],
   "source": []
  },
  {
   "cell_type": "code",
   "execution_count": null,
   "metadata": {},
   "outputs": [],
   "source": [
    " "
   ]
  },
  {
   "cell_type": "code",
   "execution_count": null,
   "metadata": {},
   "outputs": [],
   "source": []
  },
  {
   "cell_type": "code",
   "execution_count": null,
   "metadata": {},
   "outputs": [],
   "source": []
  },
  {
   "cell_type": "code",
   "execution_count": null,
   "metadata": {},
   "outputs": [],
   "source": []
  }
 ],
 "metadata": {
  "kernelspec": {
   "display_name": "Python 3",
   "language": "python",
   "name": "python3"
  }
 },
 "nbformat": 4,
 "nbformat_minor": 2
}
